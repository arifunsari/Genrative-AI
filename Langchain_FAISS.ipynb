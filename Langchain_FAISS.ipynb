{
  "nbformat": 4,
  "nbformat_minor": 0,
  "metadata": {
    "colab": {
      "provenance": [],
      "authorship_tag": "ABX9TyPszsmeWb3BafuY9xUet+fX",
      "include_colab_link": true
    },
    "kernelspec": {
      "name": "python3",
      "display_name": "Python 3"
    },
    "language_info": {
      "name": "python"
    }
  },
  "cells": [
    {
      "cell_type": "markdown",
      "metadata": {
        "id": "view-in-github",
        "colab_type": "text"
      },
      "source": [
        "<a href=\"https://colab.research.google.com/github/arifunsari/Genrative-AI/blob/main/Langchain_FAISS.ipynb\" target=\"_parent\"><img src=\"https://colab.research.google.com/assets/colab-badge.svg\" alt=\"Open In Colab\"/></a>"
      ]
    },
    {
      "cell_type": "code",
      "execution_count": null,
      "metadata": {
        "id": "tT8pOi5sjXz0"
      },
      "outputs": [],
      "source": [
        "pip install langchain faiss-cpu pinecone-client openai\n"
      ]
    },
    {
      "cell_type": "markdown",
      "source": [
        "**Setup: Imports and Embedding**"
      ],
      "metadata": {
        "id": "_gsadM0BjnwR"
      }
    },
    {
      "cell_type": "code",
      "source": [
        "from langchain.vectorstores import FAISS, Pinecone\n",
        "from langchain.embeddings.openai import OpenAIEmbeddings\n",
        "from langchain.schema import Document\n",
        "import pinecone\n",
        "\n",
        "# Replace with your actual OpenAI API Key\n",
        "import os\n",
        "os.environ[\"OPENAI_API_KEY\"] = \"your-openai-api-key\"\n",
        "\n",
        "# Initialize embeddings\n",
        "embedding = OpenAIEmbeddings()\n"
      ],
      "metadata": {
        "id": "qJBO60KJjrkQ"
      },
      "execution_count": null,
      "outputs": []
    },
    {
      "cell_type": "markdown",
      "source": [
        "**IPL Player Documents**"
      ],
      "metadata": {
        "id": "xKOAKtWsjwxr"
      }
    },
    {
      "cell_type": "code",
      "source": [
        "docs = [\n",
        "    Document(\n",
        "        page_content=\"Virat Kohli is one of the most successful and consistent batsmen in IPL history...\",\n",
        "        metadata={\"team\": \"Royal Challengers Bangalore\"}\n",
        "    ),\n",
        "    Document(\n",
        "        page_content=\"Rohit Sharma is the most successful captain in IPL history...\",\n",
        "        metadata={\"team\": \"Mumbai Indians\"}\n",
        "    ),\n",
        "    Document(\n",
        "        page_content=\"MS Dhoni, famously known as Captain Cool, has led Chennai Super Kings...\",\n",
        "        metadata={\"team\": \"Chennai Super Kings\"}\n",
        "    ),\n",
        "    Document(\n",
        "        page_content=\"Jasprit Bumrah is considered one of the best fast bowlers in T20 cricket...\",\n",
        "        metadata={\"team\": \"Mumbai Indians\"}\n",
        "    ),\n",
        "    Document(\n",
        "        page_content=\"Ravindra Jadeja is a dynamic all-rounder who contributes with both bat and ball...\",\n",
        "        metadata={\"team\": \"Chennai Super Kings\"}\n",
        "    )\n",
        "]\n"
      ],
      "metadata": {
        "id": "xFZmi_NBjwKs"
      },
      "execution_count": null,
      "outputs": []
    },
    {
      "cell_type": "markdown",
      "source": [
        "1️⃣ Create and Save FAISS Index\n",
        "python\n",
        "Copy code\n",
        "**bold text**"
      ],
      "metadata": {
        "id": "NmC19LPcj6mv"
      }
    },
    {
      "cell_type": "code",
      "source": [
        "# Create FAISS index\n",
        "faiss_index = FAISS.from_documents(docs, embedding)\n",
        "\n",
        "# Save to local folder\n",
        "faiss_index.save_local(\"faiss_index\")\n"
      ],
      "metadata": {
        "id": "fKSEp_bAj8Yv"
      },
      "execution_count": null,
      "outputs": []
    },
    {
      "cell_type": "markdown",
      "source": [
        "**2️⃣ Load and Search FAISS**"
      ],
      "metadata": {
        "id": "zjzp2po0kPnJ"
      }
    },
    {
      "cell_type": "code",
      "source": [
        "# Load index\n",
        "faiss_loaded = FAISS.load_local(\"faiss_index\", embedding)\n",
        "\n",
        "# Similarity Search\n",
        "query = \"Who is the best finisher in IPL?\"\n",
        "results = faiss_loaded.similarity_search_with_score(query, k=2)\n",
        "\n",
        "for doc, score in results:\n",
        "    print(f\"\\nScore: {score:.4f}\\nContent: {doc.page_content}\\nMetadata: {doc.metadata}\")\n"
      ],
      "metadata": {
        "id": "fb2U5XG9kQvj"
      },
      "execution_count": null,
      "outputs": []
    },
    {
      "cell_type": "markdown",
      "source": [
        "**3️⃣ Delete and Update in FAISS (Manual since FAISS is local)**"
      ],
      "metadata": {
        "id": "LYK1RYL3kWfv"
      }
    },
    {
      "cell_type": "code",
      "source": [
        "# FAISS does not support direct deletion/update, but workaround:\n",
        "# Rebuild index excluding the doc you want to delete\n",
        "new_docs = [doc for doc in docs if \"Kohli\" not in doc.page_content]\n",
        "faiss_index = FAISS.from_documents(new_docs, embedding)\n",
        "faiss_index.save_local(\"faiss_index_updated\")\n"
      ],
      "metadata": {
        "id": "LYaQv15SkYFS"
      },
      "execution_count": null,
      "outputs": []
    }
  ]
}